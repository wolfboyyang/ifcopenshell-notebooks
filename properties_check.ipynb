{
 "cells": [
  {
   "cell_type": "markdown",
   "metadata": {},
   "source": [
    "# How I solve the problem\n",
    "1. Search `FireExit` in the IFC file.\n",
    "2. Figure out the relations between `IfcDoor` and `FireExit` property:\n",
    "\n",
    "  ```\n",
    "  #279 = IFCDOOR('Door')\n",
    "\n",
    "  <-|\n",
    "\n",
    "  #300 = IFCRELDEFINESBYPROPERTIES( (#279) , #287)\n",
    "\n",
    "  |->\n",
    "\n",
    "  #287 = IFCPROPERTYSET('Pset_DoorCommon')\n",
    "\n",
    "  -> #297 = IFCPROPERTYSINGLEVALUE('FireExit'), IFCBOOLEAN(.F.)\n",
    "  ```\n",
    "3. Use ifcopenshell to retrieve the property, referred to [list all property set, property names and element types](https://community.osarch.org/discussion/507/list-property-set-property-names-and-element-types-that-have-this)\n",
    "4. Read conditions from csv file, referred to the tutorial [07_import_export.ipynb](https://github.com/jakob-beetz/ifcopenshell-notebooks/blob/main/07_import_export.ipynb)\n",
    "\n",
    "**Notice**: # match...case feature requires python>=3.10"
   ]
  },
  {
   "cell_type": "code",
   "execution_count": null,
   "metadata": {},
   "outputs": [],
   "source": [
    "# if you run the notebook in local env, please install python-ifcopenshel first.\n",
    "%pip install python-ifcopenshell"
   ]
  },
  {
   "cell_type": "code",
   "execution_count": 2,
   "metadata": {},
   "outputs": [],
   "source": [
    "import ifcopenshell\n",
    "ifcf = ifcopenshell.open(\"data/example.ifc\")"
   ]
  },
  {
   "cell_type": "code",
   "execution_count": 9,
   "metadata": {},
   "outputs": [
    {
     "name": "stdout",
     "output_type": "stream",
     "text": [
      "condition: IfcDoor FireExit existence True\n",
      "Element Door 0BVXp9RpzCo9u3Swr1c2NJ violates the requirement with existence of FireExit to be True\n",
      "Element Door 0ZsYz4_vL4VffFmw$51LvN violates the requirement with existence of FireExit to be True\n",
      "Element Door 0K8IiQQDjCYhn9BmgsH91y violates the requirement with existence of FireExit to be True\n",
      "Element Door 2pII$tkkD4xO_dAXPSy0l$ violates the requirement with existence of FireExit to be True\n",
      "condition: IfcDoor OverallHeight larger than 1500\n",
      "condition: IfcWindow OverallHeight smaller than 1300\n",
      "Element Window 2ERKaCBbX0ffhfTC_SAHgu violates the requirement with OverallHeight(1400.0) to be smaller than 1300\n",
      "Element Window 1rpCrFM5T4jP9eu4hn0bwv violates the requirement with OverallHeight(1400.0) to be smaller than 1300\n",
      "Element Window 0geWL1GwL6AQY7OJO$Vx8b violates the requirement with OverallHeight(1400.0) to be smaller than 1300\n",
      "Element Window 1QXCXoVJz0nAYZ1k6wiJl$ violates the requirement with OverallHeight(1400.0) to be smaller than 1300\n",
      "Element Window 2oIojH7vj1awvfWjE215lq violates the requirement with OverallHeight(1400.0) to be smaller than 1300\n",
      "Element Window 0_65Uly4579PB9B2yo5rKc violates the requirement with OverallHeight(1400.0) to be smaller than 1300\n",
      "Element Window 1Jrs3gGqL7if169UBMcNA$ violates the requirement with OverallHeight(1400.0) to be smaller than 1300\n",
      "Element Window 2ru$UHjzz75xot866Wh85v violates the requirement with OverallHeight(1400.0) to be smaller than 1300\n",
      "Element Window 1OaFevzZHAbAQpfDPJhEgx violates the requirement with OverallHeight(1400.0) to be smaller than 1300\n",
      "condition: IfcDoor Name one of [\"Door\"]\n"
     ]
    }
   ],
   "source": [
    "# check conditions in csv file\n",
    "import csv\n",
    "# attributes that could access directly with get_info()\n",
    "direct_attributes = ['OverallHeight', 'OverallWidth']\n",
    "# check if condition is met or not\n",
    "# match...case feature requires python>=3.10\n",
    "def meet_condition(check_value, requirement, value):\n",
    "    match requirement:\n",
    "        case 'larger than':\n",
    "            return float(check_value) > float(value)\n",
    "        case 'smaller than':\n",
    "            return float(check_value) < float(value)\n",
    "        case 'one of':\n",
    "            return check_value in eval(value)\n",
    "        case _:\n",
    "            return str(check_value) == value\n",
    "    \n",
    "#open the file\n",
    "with open(r'./data/properties_check.csv') as checkfile:\n",
    "    # create a reader, that reads the columns into a dictionary\n",
    "    # using the first row as keys (\"Element\", \"Attribute\", \"Requirement\", \"Value\"\n",
    "    reader = csv.DictReader(checkfile,delimiter=\";\")\n",
    "    # iterate over all rows\n",
    "    for row in reader:\n",
    "        element_type = row['Element']\n",
    "        attribute = row['Attribute']\n",
    "        requirement = row['Requirement']\n",
    "        value = row['Value']\n",
    "        is_direct_attribute = attribute in direct_attributes\n",
    "        print('condition:',element_type, attribute, requirement, value)\n",
    "        # get all elements \n",
    "        for element in ifcf.by_type(row['Element']):\n",
    "            if is_direct_attribute:\n",
    "                # this attribute could be simple accessed through get_info()\n",
    "                attribute_value=element.get_info()[row['Attribute']]\n",
    "                if not meet_condition(attribute_value, requirement, value):\n",
    "                    print(f\"Element {element.Name} {element.GlobalId} violates the requirement with {attribute}({attribute_value}) to be {requirement} {value}\")\n",
    "            else:\n",
    "                # this atribute should be accessed through IfcRelDefinesByProperties\n",
    "                for ifcPropertySet in map(lambda relDefines: relDefines.RelatingPropertyDefinition, element.IsDefinedBy):\n",
    "                    for ifcProperty in filter(lambda p: p.Name == attribute, ifcPropertySet.HasProperties):\n",
    "                        attribute_value = ifcProperty.NominalValue.wrappedValue\n",
    "                        if not meet_condition(attribute_value, requirement, value):\n",
    "                            print(f\"Element {element.Name} {element.GlobalId} violates the requirement with {requirement} of {attribute} to be {value}\")\n"
   ]
  }
 ],
 "metadata": {
  "kernelspec": {
   "display_name": "Python 3.10.4 ('base')",
   "language": "python",
   "name": "python3"
  },
  "language_info": {
   "codemirror_mode": {
    "name": "ipython",
    "version": 3
   },
   "file_extension": ".py",
   "mimetype": "text/x-python",
   "name": "python",
   "nbconvert_exporter": "python",
   "pygments_lexer": "ipython3",
   "version": "3.10.4"
  },
  "orig_nbformat": 4,
  "vscode": {
   "interpreter": {
    "hash": "4fe494fb94ed65585be5e7e7d3a80ffc67fdcb31951c8f0bfc203de9b81025c5"
   }
  }
 },
 "nbformat": 4,
 "nbformat_minor": 2
}
